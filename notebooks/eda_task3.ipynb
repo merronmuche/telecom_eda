{
 "cells": [
  {
   "cell_type": "code",
   "execution_count": null,
   "metadata": {},
   "outputs": [],
   "source": [
    "import pandas as pd\n",
    "import numpy as np\n",
    "import seaborn as sns\n",
    "import matplotlib.pyplot as plt\n",
    "from sklearn.preprocessing import StandardScaler\n",
    "from sklearn.cluster import KMeans\n",
    "from process_data import  get_df\n",
    "\n",
    "pd.set_option('display.float_format', lambda x: '%.0f' % x)\n",
    "\n",
    "df = get_df()\n"
   ]
  },
  {
   "cell_type": "code",
   "execution_count": null,
   "metadata": {},
   "outputs": [],
   "source": [
    "df.columns"
   ]
  },
  {
   "cell_type": "code",
   "execution_count": null,
   "metadata": {},
   "outputs": [],
   "source": [
    "#  Conduct an exploratory data analysis on those data & communicate useful insights. Ensure that you \n",
    "# identify and treat all missing values and outliers in the dataset by replacing by the mean of the corresponding column.\n",
    "\n",
    "non_numeric_columns = df.select_dtypes(exclude=['number']).columns\n",
    "\n",
    "df_numeric = df.drop(non_numeric_columns, axis=1)\n",
    "\n",
    "cleaned_data = df_numeric.fillna(df_numeric.mean())"
   ]
  },
  {
   "cell_type": "code",
   "execution_count": null,
   "metadata": {},
   "outputs": [],
   "source": [
    "# In the current dataset you’re expected to track the user’s engagement using : \n",
    "# sessions frequency \n",
    "\n",
    "session_frequency = df['MSISDN/Number'].value_counts()\n",
    "session_frequency = session_frequency .reset_index()\n",
    "session_frequency.columns = ['MSISDN/Number', 'session_frequency']\n",
    "session_frequency.head(10)\n"
   ]
  },
  {
   "cell_type": "code",
   "execution_count": null,
   "metadata": {},
   "outputs": [],
   "source": [
    "# In the current dataset you’re expected to track the user’s engagement using : \n",
    "# sessions  session duration\n",
    "session_frequency = df['MSISDN/Number'].value_counts()\n",
    "session_frequency = session_frequency .reset_index()\n",
    "session_frequency.columns = ['MSISDN/Number', 'session_frequency']\n",
    "\n",
    "# In the current dataset you’re expected to track the user’s engagement using the following engagement metrics: \n",
    "# total data usage (DL and UL)\n",
    "import pandas as pd\n",
    "\n",
    "\n",
    "df['Total Data Usage'] = df['Total UL (Bytes)'] + df['Total DL (Bytes)'] \n",
    "\n",
    "# Group by customer_id and sum the session durations and total data usage\n",
    "total_data_usage_dur = df.groupby('MSISDN/Number')[['Total Data Usage', 'Dur. (ms)']].sum()\n",
    "\n",
    "total_data_usage_dur"
   ]
  },
  {
   "cell_type": "code",
   "execution_count": null,
   "metadata": {},
   "outputs": [],
   "source": [
    "\n",
    "merged_df = pd.merge(session_frequency, total_data_usage_dur,  on='MSISDN/Number', how='outer')\n",
    "merged_df"
   ]
  },
  {
   "cell_type": "code",
   "execution_count": null,
   "metadata": {},
   "outputs": [],
   "source": [
    "# In the current dataset you’re expected to track the user’s engagement using : \n",
    "# total data usage (DL and UL)\n",
    "\n",
    "total_duration = merged_df[['MSISDN/Number', 'Dur. (ms)']].sort_values(by='Dur. (ms)', ascending=False)\n",
    "total_duration.head(10)"
   ]
  },
  {
   "cell_type": "code",
   "execution_count": null,
   "metadata": {},
   "outputs": [],
   "source": [
    "total_Total_Data_Usage = merged_df[['MSISDN/Number', 'Total Data Usage']].sort_values(by='Total Data Usage', ascending=False)\n",
    "total_Total_Data_Usage.head(10)"
   ]
  },
  {
   "cell_type": "code",
   "execution_count": null,
   "metadata": {},
   "outputs": [],
   "source": [
    "# Normalize each engagement metric and run a k-means (k=3) to classify customers in three groups of engagement. \n",
    "\n",
    "# Select the engagement metrics for clustering\n",
    "engagement_metrics = [\n",
    "    'Total Data Usage',\n",
    "    'Dur. (ms)',\n",
    "    'session_frequency',\n",
    "]\n",
    "\n",
    "# Drop rows with missing values in the selected columns\n",
    "df_cluster = merged_df[engagement_metrics].dropna()\n",
    "\n",
    "# Standardize the data\n",
    "scaler = StandardScaler()\n",
    "scaled_data = scaler.fit_transform(df_cluster)\n",
    "\n",
    "# Apply k-means clustering\n",
    "kmeans = KMeans(n_clusters=3, random_state=42)\n",
    "df_cluster['Cluster'] = kmeans.fit_predict(scaled_data)\n",
    "\n",
    "# Visualize the clusters using a rearranged 3D scatter plot\n",
    "fig = plt.figure(figsize=(10, 8))\n",
    "ax = fig.add_subplot(111, projection='3d')\n",
    "\n",
    "scatter = ax.scatter(\n",
    "    df_cluster['session_frequency'],\n",
    "    df_cluster['Dur. (ms)'],\n",
    "    df_cluster['Total Data Usage'],\n",
    "    c=df_cluster['Cluster'],\n",
    "    cmap='viridis',\n",
    "    s=50,\n",
    "    alpha=0.6,\n",
    "    edgecolors='w'\n",
    ")\n",
    "\n",
    "ax.set_xlabel('Session Frequency')\n",
    "ax.set_ylabel('Duration (ms)')\n",
    "ax.set_zlabel('Total Data Usage')\n",
    "ax.set_title('K-Means Clustering of User Experiences')\n",
    "\n",
    "legend1 = ax.legend(*scatter.legend_elements(), title='Clusters')\n",
    "ax.add_artist(legend1)\n",
    "\n",
    "plt.show()\n",
    "\n"
   ]
  },
  {
   "cell_type": "code",
   "execution_count": null,
   "metadata": {},
   "outputs": [],
   "source": []
  }
 ],
 "metadata": {
  "kernelspec": {
   "display_name": "venv",
   "language": "python",
   "name": "python3"
  },
  "language_info": {
   "codemirror_mode": {
    "name": "ipython",
    "version": 3
   },
   "file_extension": ".py",
   "mimetype": "text/x-python",
   "name": "python",
   "nbconvert_exporter": "python",
   "pygments_lexer": "ipython3",
   "version": "3.10.12"
  }
 },
 "nbformat": 4,
 "nbformat_minor": 2
}
